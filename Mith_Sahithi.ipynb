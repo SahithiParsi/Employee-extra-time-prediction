{
 "cells": [
  {
   "cell_type": "code",
   "execution_count": 58,
   "metadata": {
    "collapsed": true
   },
   "outputs": [],
   "source": [
    "# importing Python libraries \n",
    "import numpy as np\n",
    "import pandas as pd\n",
    "import matplotlib.pyplot as plt\n",
    "% matplotlib inline\n",
    "import seaborn as sns\n",
    "from scipy import stats\n",
    "from scipy.stats import norm, skew\n",
    "from sklearn import preprocessing"
   ]
  },
  {
   "cell_type": "code",
   "execution_count": 72,
   "metadata": {
    "collapsed": false
   },
   "outputs": [
    {
     "name": "stderr",
     "output_type": "stream",
     "text": [
      "C:\\Users\\sahithi\\Anaconda3\\lib\\site-packages\\IPython\\core\\interactiveshell.py:2717: DtypeWarning: Columns (26) have mixed types. Specify dtype option on import or set low_memory=False.\n",
      "  interactivity=interactivity, compiler=compiler, result=result)\n"
     ]
    }
   ],
   "source": [
    "data=pd.read_csv(r'C:\\Users\\sahithi\\Desktop\\Mith_Insofe\\dataset.csv')"
   ]
  },
  {
   "cell_type": "code",
   "execution_count": 73,
   "metadata": {
    "collapsed": false
   },
   "outputs": [
    {
     "data": {
      "text/plain": [
       "(50341, 36)"
      ]
     },
     "execution_count": 73,
     "metadata": {},
     "output_type": "execute_result"
    }
   ],
   "source": [
    "#Data exploration\n",
    "data.shape"
   ]
  },
  {
   "cell_type": "code",
   "execution_count": 74,
   "metadata": {
    "collapsed": false
   },
   "outputs": [
    {
     "data": {
      "text/plain": [
       "Index(['RowID', 'Joblevel', 'DistancetoHome', 'istrain', 'FrequencyofTravel',\n",
       "       'Gender', 'OfficeAmbienceRating', 'MonthlyRate',\n",
       "       'YearsSinceLastPromotion', 'SelfMotivationRating', 'Division', 'Over18',\n",
       "       'Hourlyrate', 'JobRole', 'RelationshipSatisfaction', 'Education',\n",
       "       'No.ofWorkshopsAttended', 'EmployeeCount', 'datacollected', 'Age',\n",
       "       'YearsInCurrentRole', 'NumberofCompaniesChanged', 'WorkLifeBalance',\n",
       "       'Emolumnet_in_Pecentage', 'DialyRate', 'StandardHours', 'ExtraTime',\n",
       "       'FirstJobDate', 'EmployeeID', 'Happynesslevelinjob',\n",
       "       'DateOfjoiningintheCurrentCompany', 'ESOps', 'MonthlyIncome',\n",
       "       'Specialization', 'PerformanceRating', 'MaritalStatus'],\n",
       "      dtype='object')"
      ]
     },
     "execution_count": 74,
     "metadata": {},
     "output_type": "execute_result"
    }
   ],
   "source": [
    "data.columns"
   ]
  },
  {
   "cell_type": "code",
   "execution_count": 75,
   "metadata": {
    "collapsed": false
   },
   "outputs": [
    {
     "data": {
      "text/plain": [
       "RowID                                int64\n",
       "Joblevel                             int64\n",
       "DistancetoHome                       int64\n",
       "istrain                              int64\n",
       "FrequencyofTravel                   object\n",
       "Gender                              object\n",
       "OfficeAmbienceRating                 int64\n",
       "MonthlyRate                          int64\n",
       "YearsSinceLastPromotion              int64\n",
       "SelfMotivationRating                 int64\n",
       "Division                            object\n",
       "Over18                              object\n",
       "Hourlyrate                           int64\n",
       "JobRole                             object\n",
       "RelationshipSatisfaction             int64\n",
       "Education                            int64\n",
       "No.ofWorkshopsAttended               int64\n",
       "EmployeeCount                        int64\n",
       "datacollected                       object\n",
       "Age                                  int64\n",
       "YearsInCurrentRole                   int64\n",
       "NumberofCompaniesChanged             int64\n",
       "WorkLifeBalance                      int64\n",
       "Emolumnet_in_Pecentage               int64\n",
       "DialyRate                            int64\n",
       "StandardHours                        int64\n",
       "ExtraTime                           object\n",
       "FirstJobDate                        object\n",
       "EmployeeID                           int64\n",
       "Happynesslevelinjob                  int64\n",
       "DateOfjoiningintheCurrentCompany    object\n",
       "ESOps                                int64\n",
       "MonthlyIncome                        int64\n",
       "Specialization                      object\n",
       "PerformanceRating                    int64\n",
       "MaritalStatus                       object\n",
       "dtype: object"
      ]
     },
     "execution_count": 75,
     "metadata": {},
     "output_type": "execute_result"
    }
   ],
   "source": [
    "data.dtypes"
   ]
  },
  {
   "cell_type": "code",
   "execution_count": 76,
   "metadata": {
    "collapsed": true
   },
   "outputs": [],
   "source": [
    "data['ExtraTime'].replace('Yes','1',inplace=True)\n",
    "data['ExtraTime'].replace('No','0',inplace=True)"
   ]
  },
  {
   "cell_type": "code",
   "execution_count": 77,
   "metadata": {
    "collapsed": false
   },
   "outputs": [
    {
     "data": {
      "text/plain": [
       "0    21852\n",
       "1    18451\n",
       "Name: ExtraTime, dtype: int64"
      ]
     },
     "execution_count": 77,
     "metadata": {},
     "output_type": "execute_result"
    }
   ],
   "source": [
    "#Target distribution \n",
    "df_train = data[data['istrain']==1]\n",
    "target=df_train['ExtraTime']\n",
    "target.value_counts() "
   ]
  },
  {
   "cell_type": "markdown",
   "metadata": {},
   "source": [
    "##There is no class imbalance"
   ]
  },
  {
   "cell_type": "code",
   "execution_count": 78,
   "metadata": {
    "collapsed": false
   },
   "outputs": [
    {
     "data": {
      "text/plain": [
       "(50341, 26)"
      ]
     },
     "execution_count": 78,
     "metadata": {},
     "output_type": "execute_result"
    }
   ],
   "source": [
    "#Data Preparation\n",
    "#dropping columns which have unique levels, and less variance and high cardinality\n",
    "data.drop(['RowID','EmployeeID','EmployeeCount','Over18','datacollected','StandardHours','Joblevel','FirstJobDate','DateOfjoiningintheCurrentCompany','ExtraTime'],axis=1,inplace=True)\n",
    "data.shape"
   ]
  },
  {
   "cell_type": "code",
   "execution_count": 93,
   "metadata": {
    "collapsed": false
   },
   "outputs": [
    {
     "name": "stdout",
     "output_type": "stream",
     "text": [
      "categorical columns ['FrequencyofTravel', 'Gender', 'Division', 'JobRole', 'Specialization', 'MaritalStatus']\n",
      "numerical columns ['Age', 'DialyRate', 'DistancetoHome', 'ESOps', 'Education', 'Emolumnet_in_Pecentage', 'Happynesslevelinjob', 'Hourlyrate', 'MonthlyIncome', 'MonthlyRate', 'No.ofWorkshopsAttended', 'NumberofCompaniesChanged', 'OfficeAmbienceRating', 'PerformanceRating', 'RelationshipSatisfaction', 'SelfMotivationRating', 'WorkLifeBalance', 'YearsInCurrentRole', 'YearsSinceLastPromotion', 'istrain']\n"
     ]
    }
   ],
   "source": [
    "#Numeric and categorical\n",
    "#basic cleaning \n",
    "df=data.dtypes\n",
    "cat_cols=list(df[df=='object'].index)\n",
    "num_cols=list(df[df.index.difference(cat_cols)].index)\n",
    "print(\"categorical columns\",cat_cols)\n",
    "print(\"numerical columns\",num_cols)"
   ]
  },
  {
   "cell_type": "code",
   "execution_count": 88,
   "metadata": {
    "collapsed": false
   },
   "outputs": [
    {
     "data": {
      "text/html": [
       "<div>\n",
       "<table border=\"1\" class=\"dataframe\">\n",
       "  <thead>\n",
       "    <tr style=\"text-align: right;\">\n",
       "      <th></th>\n",
       "      <th>Age</th>\n",
       "      <th>DialyRate</th>\n",
       "      <th>DistancetoHome</th>\n",
       "      <th>ESOps</th>\n",
       "      <th>Education</th>\n",
       "      <th>Emolumnet_in_Pecentage</th>\n",
       "      <th>Happynesslevelinjob</th>\n",
       "      <th>Hourlyrate</th>\n",
       "      <th>MonthlyIncome</th>\n",
       "      <th>MonthlyRate</th>\n",
       "      <th>No.ofWorkshopsAttended</th>\n",
       "      <th>NumberofCompaniesChanged</th>\n",
       "      <th>OfficeAmbienceRating</th>\n",
       "      <th>PerformanceRating</th>\n",
       "      <th>RelationshipSatisfaction</th>\n",
       "      <th>SelfMotivationRating</th>\n",
       "      <th>WorkLifeBalance</th>\n",
       "      <th>YearsInCurrentRole</th>\n",
       "      <th>YearsSinceLastPromotion</th>\n",
       "      <th>istrain</th>\n",
       "    </tr>\n",
       "  </thead>\n",
       "  <tbody>\n",
       "    <tr>\n",
       "      <th>0</th>\n",
       "      <td>2.419385</td>\n",
       "      <td>1.242938</td>\n",
       "      <td>-0.818585</td>\n",
       "      <td>2.643152</td>\n",
       "      <td>0.130863</td>\n",
       "      <td>1.488770</td>\n",
       "      <td>-1.743364</td>\n",
       "      <td>0.803600</td>\n",
       "      <td>-0.734341</td>\n",
       "      <td>-0.566653</td>\n",
       "      <td>0.075698</td>\n",
       "      <td>0.398316</td>\n",
       "      <td>0.104318</td>\n",
       "      <td>2.275594</td>\n",
       "      <td>-1.549349</td>\n",
       "      <td>1.844484</td>\n",
       "      <td>-1.184262</td>\n",
       "      <td>-1.173195</td>\n",
       "      <td>-0.630618</td>\n",
       "      <td>0.499062</td>\n",
       "    </tr>\n",
       "    <tr>\n",
       "      <th>1</th>\n",
       "      <td>-0.991983</td>\n",
       "      <td>-1.581299</td>\n",
       "      <td>0.737432</td>\n",
       "      <td>-0.847162</td>\n",
       "      <td>-0.941715</td>\n",
       "      <td>-0.962754</td>\n",
       "      <td>0.294028</td>\n",
       "      <td>-0.941672</td>\n",
       "      <td>-0.383506</td>\n",
       "      <td>-0.151450</td>\n",
       "      <td>0.075698</td>\n",
       "      <td>-1.277715</td>\n",
       "      <td>1.074124</td>\n",
       "      <td>-0.439446</td>\n",
       "      <td>1.386061</td>\n",
       "      <td>-0.960282</td>\n",
       "      <td>0.350516</td>\n",
       "      <td>0.383124</td>\n",
       "      <td>-0.630618</td>\n",
       "      <td>0.499062</td>\n",
       "    </tr>\n",
       "    <tr>\n",
       "      <th>2</th>\n",
       "      <td>-1.105696</td>\n",
       "      <td>-1.701890</td>\n",
       "      <td>1.904444</td>\n",
       "      <td>-0.847162</td>\n",
       "      <td>0.130863</td>\n",
       "      <td>-0.349873</td>\n",
       "      <td>0.294028</td>\n",
       "      <td>-0.887132</td>\n",
       "      <td>-0.882230</td>\n",
       "      <td>-0.110969</td>\n",
       "      <td>0.962320</td>\n",
       "      <td>0.817323</td>\n",
       "      <td>0.104318</td>\n",
       "      <td>-0.439446</td>\n",
       "      <td>-0.570879</td>\n",
       "      <td>-0.960282</td>\n",
       "      <td>0.350516</td>\n",
       "      <td>-0.550667</td>\n",
       "      <td>-0.630618</td>\n",
       "      <td>0.499062</td>\n",
       "    </tr>\n",
       "    <tr>\n",
       "      <th>3</th>\n",
       "      <td>-0.650846</td>\n",
       "      <td>-1.144760</td>\n",
       "      <td>-0.559249</td>\n",
       "      <td>1.479714</td>\n",
       "      <td>-0.941715</td>\n",
       "      <td>-0.962754</td>\n",
       "      <td>-0.724668</td>\n",
       "      <td>0.749061</td>\n",
       "      <td>-0.589676</td>\n",
       "      <td>0.210745</td>\n",
       "      <td>1.848942</td>\n",
       "      <td>-1.277715</td>\n",
       "      <td>-1.835292</td>\n",
       "      <td>-0.439446</td>\n",
       "      <td>1.386061</td>\n",
       "      <td>1.844484</td>\n",
       "      <td>-1.184262</td>\n",
       "      <td>-0.550667</td>\n",
       "      <td>-0.630618</td>\n",
       "      <td>0.499062</td>\n",
       "    </tr>\n",
       "    <tr>\n",
       "      <th>4</th>\n",
       "      <td>0.031427</td>\n",
       "      <td>-1.055523</td>\n",
       "      <td>-0.948253</td>\n",
       "      <td>-0.847162</td>\n",
       "      <td>0.130863</td>\n",
       "      <td>-1.269195</td>\n",
       "      <td>1.312723</td>\n",
       "      <td>-1.159831</td>\n",
       "      <td>-0.440865</td>\n",
       "      <td>-1.430972</td>\n",
       "      <td>0.075698</td>\n",
       "      <td>0.817323</td>\n",
       "      <td>1.074124</td>\n",
       "      <td>-0.439446</td>\n",
       "      <td>0.407591</td>\n",
       "      <td>0.442101</td>\n",
       "      <td>0.350516</td>\n",
       "      <td>-0.550667</td>\n",
       "      <td>-0.275260</td>\n",
       "      <td>0.499062</td>\n",
       "    </tr>\n",
       "  </tbody>\n",
       "</table>\n",
       "</div>"
      ],
      "text/plain": [
       "        Age  DialyRate  DistancetoHome     ESOps  Education  \\\n",
       "0  2.419385   1.242938       -0.818585  2.643152   0.130863   \n",
       "1 -0.991983  -1.581299        0.737432 -0.847162  -0.941715   \n",
       "2 -1.105696  -1.701890        1.904444 -0.847162   0.130863   \n",
       "3 -0.650846  -1.144760       -0.559249  1.479714  -0.941715   \n",
       "4  0.031427  -1.055523       -0.948253 -0.847162   0.130863   \n",
       "\n",
       "   Emolumnet_in_Pecentage  Happynesslevelinjob  Hourlyrate  MonthlyIncome  \\\n",
       "0                1.488770            -1.743364    0.803600      -0.734341   \n",
       "1               -0.962754             0.294028   -0.941672      -0.383506   \n",
       "2               -0.349873             0.294028   -0.887132      -0.882230   \n",
       "3               -0.962754            -0.724668    0.749061      -0.589676   \n",
       "4               -1.269195             1.312723   -1.159831      -0.440865   \n",
       "\n",
       "   MonthlyRate  No.ofWorkshopsAttended  NumberofCompaniesChanged  \\\n",
       "0    -0.566653                0.075698                  0.398316   \n",
       "1    -0.151450                0.075698                 -1.277715   \n",
       "2    -0.110969                0.962320                  0.817323   \n",
       "3     0.210745                1.848942                 -1.277715   \n",
       "4    -1.430972                0.075698                  0.817323   \n",
       "\n",
       "   OfficeAmbienceRating  PerformanceRating  RelationshipSatisfaction  \\\n",
       "0              0.104318           2.275594                 -1.549349   \n",
       "1              1.074124          -0.439446                  1.386061   \n",
       "2              0.104318          -0.439446                 -0.570879   \n",
       "3             -1.835292          -0.439446                  1.386061   \n",
       "4              1.074124          -0.439446                  0.407591   \n",
       "\n",
       "   SelfMotivationRating  WorkLifeBalance  YearsInCurrentRole  \\\n",
       "0              1.844484        -1.184262           -1.173195   \n",
       "1             -0.960282         0.350516            0.383124   \n",
       "2             -0.960282         0.350516           -0.550667   \n",
       "3              1.844484        -1.184262           -0.550667   \n",
       "4              0.442101         0.350516           -0.550667   \n",
       "\n",
       "   YearsSinceLastPromotion   istrain  \n",
       "0                -0.630618  0.499062  \n",
       "1                -0.630618  0.499062  \n",
       "2                -0.630618  0.499062  \n",
       "3                -0.630618  0.499062  \n",
       "4                -0.275260  0.499062  "
      ]
     },
     "execution_count": 88,
     "metadata": {},
     "output_type": "execute_result"
    }
   ],
   "source": [
    "d=data[num_cols]\n",
    "from sklearn.preprocessing import StandardScaler\n",
    "scaler= StandardScaler()\n",
    "df_scaled=pd.DataFrame(scaler.fit_transform(d),columns=num_cols)\n",
    "df_scaled.head()"
   ]
  },
  {
   "cell_type": "code",
   "execution_count": 94,
   "metadata": {
    "collapsed": false
   },
   "outputs": [
    {
     "data": {
      "text/plain": [
       "(50341, 6)"
      ]
     },
     "execution_count": 94,
     "metadata": {},
     "output_type": "execute_result"
    }
   ],
   "source": [
    "cat_data=data[cat_cols]\n",
    "cat_data.shape"
   ]
  },
  {
   "cell_type": "code",
   "execution_count": 95,
   "metadata": {
    "collapsed": false
   },
   "outputs": [
    {
     "data": {
      "text/plain": [
       "(50341, 20)"
      ]
     },
     "execution_count": 95,
     "metadata": {},
     "output_type": "execute_result"
    }
   ],
   "source": [
    "df_scaled.shape"
   ]
  },
  {
   "cell_type": "code",
   "execution_count": 66,
   "metadata": {
    "collapsed": false
   },
   "outputs": [
    {
     "data": {
      "text/plain": [
       "(50341, 46)"
      ]
     },
     "execution_count": 66,
     "metadata": {},
     "output_type": "execute_result"
    }
   ],
   "source": [
    "data=pd.get_dummies(data)\n",
    "data.shape"
   ]
  },
  {
   "cell_type": "code",
   "execution_count": 67,
   "metadata": {
    "collapsed": false
   },
   "outputs": [
    {
     "data": {
      "text/html": [
       "<div>\n",
       "<table border=\"1\" class=\"dataframe\">\n",
       "  <thead>\n",
       "    <tr style=\"text-align: right;\">\n",
       "      <th></th>\n",
       "      <th>DistancetoHome</th>\n",
       "      <th>istrain</th>\n",
       "      <th>OfficeAmbienceRating</th>\n",
       "      <th>MonthlyRate</th>\n",
       "      <th>YearsSinceLastPromotion</th>\n",
       "      <th>SelfMotivationRating</th>\n",
       "      <th>Hourlyrate</th>\n",
       "      <th>RelationshipSatisfaction</th>\n",
       "      <th>Education</th>\n",
       "      <th>No.ofWorkshopsAttended</th>\n",
       "      <th>...</th>\n",
       "      <th>JobRole_Sales Representative</th>\n",
       "      <th>Specialization_Human Resources</th>\n",
       "      <th>Specialization_Life Sciences</th>\n",
       "      <th>Specialization_Marketing</th>\n",
       "      <th>Specialization_Medical</th>\n",
       "      <th>Specialization_Other</th>\n",
       "      <th>Specialization_Technical Degree</th>\n",
       "      <th>MaritalStatus_Divorced</th>\n",
       "      <th>MaritalStatus_Married</th>\n",
       "      <th>MaritalStatus_Single</th>\n",
       "    </tr>\n",
       "  </thead>\n",
       "  <tbody>\n",
       "    <tr>\n",
       "      <th>0</th>\n",
       "      <td>3</td>\n",
       "      <td>1</td>\n",
       "      <td>3</td>\n",
       "      <td>9964</td>\n",
       "      <td>0</td>\n",
       "      <td>4</td>\n",
       "      <td>81</td>\n",
       "      <td>1</td>\n",
       "      <td>3</td>\n",
       "      <td>3</td>\n",
       "      <td>...</td>\n",
       "      <td>0</td>\n",
       "      <td>0</td>\n",
       "      <td>0</td>\n",
       "      <td>0</td>\n",
       "      <td>1</td>\n",
       "      <td>0</td>\n",
       "      <td>0</td>\n",
       "      <td>0</td>\n",
       "      <td>1</td>\n",
       "      <td>0</td>\n",
       "    </tr>\n",
       "    <tr>\n",
       "      <th>1</th>\n",
       "      <td>15</td>\n",
       "      <td>1</td>\n",
       "      <td>4</td>\n",
       "      <td>12682</td>\n",
       "      <td>0</td>\n",
       "      <td>2</td>\n",
       "      <td>49</td>\n",
       "      <td>4</td>\n",
       "      <td>2</td>\n",
       "      <td>3</td>\n",
       "      <td>...</td>\n",
       "      <td>0</td>\n",
       "      <td>0</td>\n",
       "      <td>1</td>\n",
       "      <td>0</td>\n",
       "      <td>0</td>\n",
       "      <td>0</td>\n",
       "      <td>0</td>\n",
       "      <td>0</td>\n",
       "      <td>0</td>\n",
       "      <td>1</td>\n",
       "    </tr>\n",
       "    <tr>\n",
       "      <th>2</th>\n",
       "      <td>24</td>\n",
       "      <td>1</td>\n",
       "      <td>3</td>\n",
       "      <td>12947</td>\n",
       "      <td>0</td>\n",
       "      <td>2</td>\n",
       "      <td>50</td>\n",
       "      <td>2</td>\n",
       "      <td>3</td>\n",
       "      <td>4</td>\n",
       "      <td>...</td>\n",
       "      <td>0</td>\n",
       "      <td>0</td>\n",
       "      <td>1</td>\n",
       "      <td>0</td>\n",
       "      <td>0</td>\n",
       "      <td>0</td>\n",
       "      <td>0</td>\n",
       "      <td>0</td>\n",
       "      <td>0</td>\n",
       "      <td>1</td>\n",
       "    </tr>\n",
       "    <tr>\n",
       "      <th>3</th>\n",
       "      <td>5</td>\n",
       "      <td>1</td>\n",
       "      <td>1</td>\n",
       "      <td>15053</td>\n",
       "      <td>0</td>\n",
       "      <td>4</td>\n",
       "      <td>80</td>\n",
       "      <td>4</td>\n",
       "      <td>2</td>\n",
       "      <td>5</td>\n",
       "      <td>...</td>\n",
       "      <td>0</td>\n",
       "      <td>0</td>\n",
       "      <td>1</td>\n",
       "      <td>0</td>\n",
       "      <td>0</td>\n",
       "      <td>0</td>\n",
       "      <td>0</td>\n",
       "      <td>1</td>\n",
       "      <td>0</td>\n",
       "      <td>0</td>\n",
       "    </tr>\n",
       "    <tr>\n",
       "      <th>4</th>\n",
       "      <td>2</td>\n",
       "      <td>1</td>\n",
       "      <td>4</td>\n",
       "      <td>4306</td>\n",
       "      <td>1</td>\n",
       "      <td>3</td>\n",
       "      <td>45</td>\n",
       "      <td>3</td>\n",
       "      <td>3</td>\n",
       "      <td>3</td>\n",
       "      <td>...</td>\n",
       "      <td>0</td>\n",
       "      <td>0</td>\n",
       "      <td>1</td>\n",
       "      <td>0</td>\n",
       "      <td>0</td>\n",
       "      <td>0</td>\n",
       "      <td>0</td>\n",
       "      <td>0</td>\n",
       "      <td>0</td>\n",
       "      <td>1</td>\n",
       "    </tr>\n",
       "  </tbody>\n",
       "</table>\n",
       "<p>5 rows × 46 columns</p>\n",
       "</div>"
      ],
      "text/plain": [
       "   DistancetoHome  istrain  OfficeAmbienceRating  MonthlyRate  \\\n",
       "0               3        1                     3         9964   \n",
       "1              15        1                     4        12682   \n",
       "2              24        1                     3        12947   \n",
       "3               5        1                     1        15053   \n",
       "4               2        1                     4         4306   \n",
       "\n",
       "   YearsSinceLastPromotion  SelfMotivationRating  Hourlyrate  \\\n",
       "0                        0                     4          81   \n",
       "1                        0                     2          49   \n",
       "2                        0                     2          50   \n",
       "3                        0                     4          80   \n",
       "4                        1                     3          45   \n",
       "\n",
       "   RelationshipSatisfaction  Education  No.ofWorkshopsAttended  \\\n",
       "0                         1          3                       3   \n",
       "1                         4          2                       3   \n",
       "2                         2          3                       4   \n",
       "3                         4          2                       5   \n",
       "4                         3          3                       3   \n",
       "\n",
       "           ...           JobRole_Sales Representative  \\\n",
       "0          ...                                      0   \n",
       "1          ...                                      0   \n",
       "2          ...                                      0   \n",
       "3          ...                                      0   \n",
       "4          ...                                      0   \n",
       "\n",
       "   Specialization_Human Resources  Specialization_Life Sciences  \\\n",
       "0                               0                             0   \n",
       "1                               0                             1   \n",
       "2                               0                             1   \n",
       "3                               0                             1   \n",
       "4                               0                             1   \n",
       "\n",
       "   Specialization_Marketing  Specialization_Medical  Specialization_Other  \\\n",
       "0                         0                       1                     0   \n",
       "1                         0                       0                     0   \n",
       "2                         0                       0                     0   \n",
       "3                         0                       0                     0   \n",
       "4                         0                       0                     0   \n",
       "\n",
       "   Specialization_Technical Degree  MaritalStatus_Divorced  \\\n",
       "0                                0                       0   \n",
       "1                                0                       0   \n",
       "2                                0                       0   \n",
       "3                                0                       1   \n",
       "4                                0                       0   \n",
       "\n",
       "   MaritalStatus_Married  MaritalStatus_Single  \n",
       "0                      1                     0  \n",
       "1                      0                     1  \n",
       "2                      0                     1  \n",
       "3                      0                     0  \n",
       "4                      0                     1  \n",
       "\n",
       "[5 rows x 46 columns]"
      ]
     },
     "execution_count": 67,
     "metadata": {},
     "output_type": "execute_result"
    }
   ],
   "source": [
    "data.head(5)"
   ]
  },
  {
   "cell_type": "code",
   "execution_count": 47,
   "metadata": {
    "collapsed": false
   },
   "outputs": [],
   "source": [
    "from sklearn.model_selection import train_test_split\n",
    "from sklearn.model_selection import GridSearchCV # Search over specified parameter values for an estimator.\n",
    "from sklearn.model_selection import RandomizedSearchCV # Search over specified parameter values for an estimator.\n",
    "from sklearn.model_selection import ShuffleSplit # Random permutation cross-validator\n",
    "from sklearn.metrics import make_scorer,recall_score,accuracy_score\n",
    "from time import time"
   ]
  },
  {
   "cell_type": "code",
   "execution_count": 48,
   "metadata": {
    "collapsed": false
   },
   "outputs": [],
   "source": [
    "#data preparation\n",
    "df_train = data[data['istrain']==1]\n",
    "df_test = data[data['istrain']==0]"
   ]
  },
  {
   "cell_type": "code",
   "execution_count": 49,
   "metadata": {
    "collapsed": false
   },
   "outputs": [],
   "source": [
    "X_train, X_test, y_train, y_test =train_test_split(df_train,target,test_size=0.3)"
   ]
  },
  {
   "cell_type": "code",
   "execution_count": 25,
   "metadata": {
    "collapsed": false
   },
   "outputs": [
    {
     "name": "stdout",
     "output_type": "stream",
     "text": [
      "(28212, 46)\n",
      "(28212,)\n",
      "(12091, 46)\n",
      "(12091,)\n"
     ]
    }
   ],
   "source": [
    "print(X_train.shape)\n",
    "print(y_train.shape)\n",
    "print(X_test.shape)\n",
    "print(y_test.shape)"
   ]
  },
  {
   "cell_type": "code",
   "execution_count": 27,
   "metadata": {
    "collapsed": false
   },
   "outputs": [
    {
     "data": {
      "text/plain": [
       "LogisticRegression(C=1.0, class_weight=None, dual=False, fit_intercept=True,\n",
       "          intercept_scaling=1, max_iter=100, multi_class='ovr', n_jobs=1,\n",
       "          penalty='l2', random_state=None, solver='liblinear', tol=0.0001,\n",
       "          verbose=0, warm_start=False)"
      ]
     },
     "execution_count": 27,
     "metadata": {},
     "output_type": "execute_result"
    }
   ],
   "source": [
    "#Logistic regression\n",
    "from sklearn.linear_model import LogisticRegression\n",
    "model=LogisticRegression()\n",
    "model.fit(X_train,y_train)"
   ]
  },
  {
   "cell_type": "code",
   "execution_count": 28,
   "metadata": {
    "collapsed": false
   },
   "outputs": [
    {
     "data": {
      "text/plain": [
       "0.64254404102224794"
      ]
     },
     "execution_count": 28,
     "metadata": {},
     "output_type": "execute_result"
    }
   ],
   "source": [
    "l_predict=model.predict(X_test)\n",
    "accuracy_score(y_test,l_predict)"
   ]
  },
  {
   "cell_type": "code",
   "execution_count": null,
   "metadata": {
    "collapsed": false
   },
   "outputs": [],
   "source": [
    "from sklearn.linear_model import LogisticRegression\n",
    "model=LogisticRegression(penalty='l2',C=0.01)\n",
    "model.fit(X_train,y_train)"
   ]
  },
  {
   "cell_type": "code",
   "execution_count": 31,
   "metadata": {
    "collapsed": false
   },
   "outputs": [
    {
     "data": {
      "text/plain": [
       "0.64386733934331319"
      ]
     },
     "execution_count": 31,
     "metadata": {},
     "output_type": "execute_result"
    }
   ],
   "source": [
    "l_predict=model.predict(X_test)\n",
    "accuracy_score(y_test,l_predict)"
   ]
  },
  {
   "cell_type": "code",
   "execution_count": 19,
   "metadata": {
    "collapsed": true
   },
   "outputs": [],
   "source": [
    "#Model Building\n",
    "from sklearn.svm import SVC"
   ]
  },
  {
   "cell_type": "code",
   "execution_count": null,
   "metadata": {
    "collapsed": false
   },
   "outputs": [
    {
     "name": "stdout",
     "output_type": "stream",
     "text": [
      "Fitting 3 folds for each of 10 candidates, totalling 30 fits\n"
     ]
    }
   ],
   "source": [
    "#SVM Classifier\n",
    "scoring={'Accuracy':accuracy_score, 'Recall':recall_score}\n",
    "Cs=np.arange(0.001,10,0.001)\n",
    "gamma=np.arange(0.01,1,0.01)\n",
    "ks=['linear']\n",
    "param_grid={'C':Cs,'gamma':gamma, 'kernel':ks}\n",
    "clf_linear=RandomizedSearchCV(SVC(class_weight='balanced'),param_grid,n_jobs=-1,n_iter=10,refit=\"Recall\",verbose=1)\n",
    "clf_linear.fit(X_train,y_train)\n",
    "svm_opt=clf.linear.best_estimator_"
   ]
  },
  {
   "cell_type": "code",
   "execution_count": 174,
   "metadata": {
    "collapsed": false
   },
   "outputs": [
    {
     "data": {
      "text/plain": [
       "RandomForestClassifier(bootstrap=True, class_weight=None, criterion='gini',\n",
       "            max_depth=16, max_features='auto', max_leaf_nodes=None,\n",
       "            min_impurity_decrease=0.0, min_impurity_split=None,\n",
       "            min_samples_leaf=20, min_samples_split=2,\n",
       "            min_weight_fraction_leaf=0.0, n_estimators=100, n_jobs=1,\n",
       "            oob_score=False, random_state=None, verbose=0,\n",
       "            warm_start=False)"
      ]
     },
     "execution_count": 174,
     "metadata": {},
     "output_type": "execute_result"
    }
   ],
   "source": [
    "#RandomForest Classifer\n",
    "from sklearn.ensemble import RandomForestClassifier\n",
    "clf=RandomForestClassifier(max_depth=16, min_samples_leaf= 20, n_estimators= 100)\n",
    "clf.fit(X_train,y_train)"
   ]
  },
  {
   "cell_type": "code",
   "execution_count": 175,
   "metadata": {
    "collapsed": false
   },
   "outputs": [
    {
     "name": "stdout",
     "output_type": "stream",
     "text": [
      "accuracy 0.756016872054\n"
     ]
    }
   ],
   "source": [
    "clf_predict=clf.predict(X_test)\n",
    "print('accuracy',accuracy_score(y_test,clf_predict))"
   ]
  },
  {
   "cell_type": "code",
   "execution_count": 176,
   "metadata": {
    "collapsed": true
   },
   "outputs": [],
   "source": [
    "y_pred_final = clf.predict(df_test)"
   ]
  },
  {
   "cell_type": "code",
   "execution_count": null,
   "metadata": {
    "collapsed": false
   },
   "outputs": [],
   "source": [
    "#optimising hyperparameters\n",
    "start=time()\n",
    "rf_classifier=RandomForestClassifier(random_state=42)\n",
    "cv_set=ShuffleSplit(random_state=4)\n",
    "parameters={'n_estimators':[100,120,140],'min_samples_leaf':[10,20,30],'max_depth':[10,15,20]}\n",
    "scorer={'Accuracy':accuracy_score, 'Recall':recall_score}\n",
    "scorer=make_scorer(accuracy_score)\n",
    "grid_obj=RandomizedSearchCV(rf_classifier,parameters,n_iter=10,cv=cv_set,scoring=scorer)\n",
    "grid_obj.fit(X_train,y_train)\n",
    "rf_opt=grid_obj.best_estimator_\n",
    "end=time()\n",
    "time=(end-start)/60\n",
    "print('Rf time',time)"
   ]
  },
  {
   "cell_type": "code",
   "execution_count": 143,
   "metadata": {
    "collapsed": false
   },
   "outputs": [
    {
     "data": {
      "text/plain": [
       "{'max_depth': 20, 'min_samples_leaf': 10, 'n_estimators': 100}"
      ]
     },
     "execution_count": 143,
     "metadata": {},
     "output_type": "execute_result"
    }
   ],
   "source": [
    "grid_obj.best_params_"
   ]
  },
  {
   "cell_type": "code",
   "execution_count": 148,
   "metadata": {
    "collapsed": false
   },
   "outputs": [
    {
     "name": "stdout",
     "output_type": "stream",
     "text": [
      "accuracy 0.758415350261\n"
     ]
    }
   ],
   "source": [
    "rf_predict=rf_opt.predict(X_test)\n",
    "print('accuracy',accuracy_score(y_test,rf_predict))"
   ]
  },
  {
   "cell_type": "code",
   "execution_count": 149,
   "metadata": {
    "collapsed": false
   },
   "outputs": [
    {
     "data": {
      "text/plain": [
       "array(['MonthlyIncome', 'YearsInCurrentRole', 'Age', 'MonthlyRate',\n",
       "       'DialyRate'], dtype=object)"
      ]
     },
     "execution_count": 149,
     "metadata": {},
     "output_type": "execute_result"
    }
   ],
   "source": [
    "importances = rf_opt.feature_importances_\n",
    "X_train.columns.values[(np.argsort(importances)[::-1])[:5]]"
   ]
  },
  {
   "cell_type": "code",
   "execution_count": 150,
   "metadata": {
    "collapsed": true
   },
   "outputs": [],
   "source": [
    "rf_opt_preds = rf_opt.predict(X_test)"
   ]
  },
  {
   "cell_type": "code",
   "execution_count": 151,
   "metadata": {
    "collapsed": false
   },
   "outputs": [],
   "source": [
    "y_pred_final = rf_opt.predict(df_test)"
   ]
  },
  {
   "cell_type": "code",
   "execution_count": 152,
   "metadata": {
    "collapsed": false
   },
   "outputs": [
    {
     "name": "stderr",
     "output_type": "stream",
     "text": [
      "C:\\Users\\sahithi\\Anaconda3\\lib\\site-packages\\IPython\\core\\interactiveshell.py:2717: DtypeWarning: Columns (26) have mixed types. Specify dtype option on import or set low_memory=False.\n",
      "  interactivity=interactivity, compiler=compiler, result=result)\n"
     ]
    },
    {
     "data": {
      "text/plain": [
       "(10038, 27)"
      ]
     },
     "execution_count": 152,
     "metadata": {},
     "output_type": "execute_result"
    }
   ],
   "source": [
    "data1=pd.read_csv(r'C:\\Users\\sahithi\\Desktop\\Mith_Insofe\\dataset.csv')\n",
    "data1.drop(['EmployeeID','EmployeeCount','Over18','datacollected','StandardHours','Joblevel','FirstJobDate','DateOfjoiningintheCurrentCompany','ExtraTime'],axis=1,inplace=True)\n",
    "test_data = data1[data1['istrain']==0]\n",
    "test_data.shape"
   ]
  },
  {
   "cell_type": "code",
   "execution_count": 153,
   "metadata": {
    "collapsed": false
   },
   "outputs": [
    {
     "data": {
      "text/plain": [
       "Index(['RowID', 'DistancetoHome', 'istrain', 'FrequencyofTravel', 'Gender',\n",
       "       'OfficeAmbienceRating', 'MonthlyRate', 'YearsSinceLastPromotion',\n",
       "       'SelfMotivationRating', 'Division', 'Hourlyrate', 'JobRole',\n",
       "       'RelationshipSatisfaction', 'Education', 'No.ofWorkshopsAttended',\n",
       "       'Age', 'YearsInCurrentRole', 'NumberofCompaniesChanged',\n",
       "       'WorkLifeBalance', 'Emolumnet_in_Pecentage', 'DialyRate',\n",
       "       'Happynesslevelinjob', 'ESOps', 'MonthlyIncome', 'Specialization',\n",
       "       'PerformanceRating', 'MaritalStatus'],\n",
       "      dtype='object')"
      ]
     },
     "execution_count": 153,
     "metadata": {},
     "output_type": "execute_result"
    }
   ],
   "source": [
    "test_data.columns"
   ]
  },
  {
   "cell_type": "code",
   "execution_count": 177,
   "metadata": {
    "collapsed": false
   },
   "outputs": [],
   "source": [
    "# Final submission\n",
    "my_submission = pd.DataFrame({'RowId': test_data.RowID, 'ExtraTime': y_pred_final})\n",
    "my_submission.to_csv('PRED3.csv', index=False)"
   ]
  },
  {
   "cell_type": "code",
   "execution_count": 179,
   "metadata": {
    "collapsed": false
   },
   "outputs": [],
   "source": [
    "#XGBoost\n",
    "import xgboost as xgb\n",
    "xgb_regressor = xgb.XGBClassifier()"
   ]
  },
  {
   "cell_type": "code",
   "execution_count": 180,
   "metadata": {
    "collapsed": true
   },
   "outputs": [],
   "source": [
    "xgb_opt = xgb.XGBClassifier(\n",
    "    learning_rate = 0.05,\n",
    "    max_depth = 9,\n",
    "    min_child_weight = 1.5,\n",
    "    n_estimators = 1200,                                                                  \n",
    "    seed = 42,\n",
    "    silent = 1)"
   ]
  },
  {
   "cell_type": "code",
   "execution_count": 181,
   "metadata": {
    "collapsed": true
   },
   "outputs": [],
   "source": [
    "xgb_opt.fit(X_train, y_train)\n",
    "xgb_opt_predict = xgb_opt.predict(X_test)"
   ]
  },
  {
   "cell_type": "code",
   "execution_count": 69,
   "metadata": {
    "collapsed": false
   },
   "outputs": [
    {
     "name": "stdout",
     "output_type": "stream",
     "text": [
      "accuracy 0.753204863121\n"
     ]
    }
   ],
   "source": [
    "print('accuracy',xgb_opt.score(X_test,y_test))"
   ]
  },
  {
   "cell_type": "code",
   "execution_count": null,
   "metadata": {
    "collapsed": true
   },
   "outputs": [],
   "source": [
    "print('accuracy',accuracy_score(y_test,xgb_opt.predict(X_test))"
   ]
  },
  {
   "cell_type": "code",
   "execution_count": null,
   "metadata": {
    "collapsed": true
   },
   "outputs": [],
   "source": [
    "y_pred_final = rf_opt.predict(df_test)"
   ]
  },
  {
   "cell_type": "code",
   "execution_count": null,
   "metadata": {
    "collapsed": true
   },
   "outputs": [],
   "source": [
    "# Final submission\n",
    "my_submission = pd.DataFrame({'RowId': test_data.RowID, 'ExtraTime': y_pred_final})\n",
    "my_submission.to_csv('PRED3.csv', index=False)"
   ]
  },
  {
   "cell_type": "code",
   "execution_count": null,
   "metadata": {
    "collapsed": true
   },
   "outputs": [],
   "source": [
    "#start = time() # Get start time\n",
    "cv_sets_xgb = ShuffleSplit(random_state = 10) # shuffling our data for cross-validation\n",
    "parameters_xgb = {'n_estimators':[7000,7500,8000], \n",
    "              'learning_rate':[0.05,0.060,0.070], \n",
    "              'max_depth':[7,8,9],\n",
    "              'min_child_weight':[1.5]}\n",
    "scorer_xgb = make_scorer(r2_score)\n",
    "grid_obj_xgb = RandomizedSearchCV(xgb_regressor, \n",
    "                                  parameters_xgb,\n",
    "                                  scoring = scorer_xgb, \n",
    "                                  cv = cv_sets_xgb,\n",
    "                                  random_state= 99)\n",
    "grid_fit_xgb = grid_obj_xgb.fit(X_train, y_train)\n",
    "xgb_opt = grid_fit_xgb.best_estimator_"
   ]
  },
  {
   "cell_type": "code",
   "execution_count": null,
   "metadata": {
    "collapsed": true
   },
   "outputs": [],
   "source": [
    "xgb4 = XGBClassifier(\n",
    " learning_rate =0.01,\n",
    " n_estimators=5000,\n",
    " max_depth=4,\n",
    " min_child_weight=6,\n",
    " gamma=0,\n",
    " subsample=0.8,\n",
    " colsample_bytree=0.8,\n",
    " reg_alpha=0.005,\n",
    " objective= 'binary:logistic',\n",
    " nthread=4,\n",
    " scale_pos_weight=1,\n",
    " seed=27)"
   ]
  },
  {
   "cell_type": "code",
   "execution_count": null,
   "metadata": {
    "collapsed": true
   },
   "outputs": [],
   "source": [
    "xgb_opt.best_params_"
   ]
  }
 ],
 "metadata": {
  "kernelspec": {
   "display_name": "Python 3",
   "language": "python",
   "name": "python3"
  },
  "language_info": {
   "codemirror_mode": {
    "name": "ipython",
    "version": 3
   },
   "file_extension": ".py",
   "mimetype": "text/x-python",
   "name": "python",
   "nbconvert_exporter": "python",
   "pygments_lexer": "ipython3",
   "version": "3.6.0"
  }
 },
 "nbformat": 4,
 "nbformat_minor": 2
}
